{
  "cells": [
    {
      "cell_type": "markdown",
      "source": [
        "# Problem: We want to develop a model for minimizing the total expected cost of building a street lamp over a five-year guarantee period, assuming that each component needed to assemble an individual street lamp fails at most once over five years."
      ],
      "metadata": {
        "id": "cOBD_DVHKTlz"
      },
      "id": "cOBD_DVHKTlz"
    },
    {
      "cell_type": "markdown",
      "id": "31212515",
      "metadata": {
        "id": "31212515"
      },
      "source": [
        "# Mathematical Formulation"
      ]
    },
    {
      "cell_type": "markdown",
      "id": "d04d466e",
      "metadata": {
        "id": "d04d466e"
      },
      "source": [
        "Decision variables:\n",
        "\n",
        "$ x_{i,j} $ = whether or not to purchase component $ i $ from supplier $ j $ \n",
        "\n",
        "where $ i = 1,...,10, j = 1,...5 $\n",
        "\n",
        "Model parameters:\n",
        "\n",
        "$ C_{i,j} $ = total cost of a given component $ i $ sourced from supplier $ j $\n",
        "\n",
        "$ U_{i,j} $ = UL-certification of a given component $ i $ sourced from supplier $ j $ (binary)\n",
        "\n",
        "$ r_{i,j} $ = defect rate of a given component $ i $ sourced from supplier $ j $\n",
        "\n",
        "Objective function:\n",
        "\n",
        "Minimize\n",
        "\n",
        "$\\sum \\limits _{i=1} ^{10}\\sum \\limits _{j=1} ^{5} x_{i,j} C_{i,j} (1 - r_{i,j}) + \\sum \\limits _{i=1} ^{10}\\sum \\limits _{j=1} ^{5} x_{i,j} 2*C_{i,j} (r_{i,j})  $\n",
        "\n",
        "This can be simplified to:\n",
        "\n",
        "Minimize\n",
        "\n",
        "$\\sum \\limits _{i=1} ^{10}\\sum \\limits _{j=1} ^{5} x_{i,j} C_{i,j} (1 + r_{i,j}) $\n",
        "\n",
        "Constraints:\n",
        "\n",
        "$ x_{i,j} \\in {0,1} $ for all $ i = 1,...,10 $ for all $ j = 1,...,5 $ (x is binary variable)\n",
        "\n",
        "One of each component number has to be selected for each light:\n",
        "\n",
        "$\\sum \\limits _{j=1} ^{5} x_{i,j} = 1 $ for all $ i = 1,...,10 $\n",
        "\n",
        "At least 7 of the 10 components must be UL-certified:\n",
        "\n",
        "$\\sum \\limits _{i=1} ^{10}\\sum \\limits _{j=1} ^{5} U_{i,j} x_{i,j} ≥ 7 $\n",
        "\n",
        "Compatibility constraints:\n",
        "\n",
        "$ x_{1,3} + x_{2,3} ≤ 1 $\n",
        "\n",
        "$ x_{2,1} = x_{4,2} $\n",
        "\n",
        "Budget:\n",
        "\n",
        "$\\sum \\limits _{i=1} ^{10}\\sum \\limits _{j=1} ^{5} x_{i,j} C_{i,j} (1 + r_{i,j}) ≤ 5400 $"
      ]
    },
    {
      "cell_type": "markdown",
      "id": "12fde622",
      "metadata": {
        "id": "12fde622"
      },
      "source": [
        "# Solution"
      ]
    },
    {
      "cell_type": "code",
      "execution_count": null,
      "id": "ce505980",
      "metadata": {
        "id": "ce505980"
      },
      "outputs": [],
      "source": [
        "import gurobipy as gp\n",
        "from gurobipy import *\n",
        "import pandas as pd\n",
        "import numpy as np"
      ]
    },
    {
      "cell_type": "code",
      "execution_count": null,
      "id": "bc080241",
      "metadata": {
        "id": "bc080241",
        "outputId": "c692255d-d590-4996-d1b0-c59943b2f726"
      },
      "outputs": [
        {
          "data": {
            "text/html": [
              "<div>\n",
              "<style scoped>\n",
              "    .dataframe tbody tr th:only-of-type {\n",
              "        vertical-align: middle;\n",
              "    }\n",
              "\n",
              "    .dataframe tbody tr th {\n",
              "        vertical-align: top;\n",
              "    }\n",
              "\n",
              "    .dataframe thead th {\n",
              "        text-align: right;\n",
              "    }\n",
              "</style>\n",
              "<table border=\"1\" class=\"dataframe\">\n",
              "  <thead>\n",
              "    <tr style=\"text-align: right;\">\n",
              "      <th></th>\n",
              "      <th>Component #</th>\n",
              "      <th>Supplier</th>\n",
              "      <th>Defect Rate</th>\n",
              "      <th>UL Certified</th>\n",
              "      <th>Cost (NT$)</th>\n",
              "      <th>Extra Pre-Assembly Cost (NT$)</th>\n",
              "    </tr>\n",
              "  </thead>\n",
              "  <tbody>\n",
              "    <tr>\n",
              "      <th>0</th>\n",
              "      <td>#1</td>\n",
              "      <td>Sup11</td>\n",
              "      <td>0.037</td>\n",
              "      <td>1</td>\n",
              "      <td>1380.00</td>\n",
              "      <td>0</td>\n",
              "    </tr>\n",
              "    <tr>\n",
              "      <th>1</th>\n",
              "      <td>#1</td>\n",
              "      <td>Sup12</td>\n",
              "      <td>0.017</td>\n",
              "      <td>1</td>\n",
              "      <td>1668.00</td>\n",
              "      <td>0</td>\n",
              "    </tr>\n",
              "    <tr>\n",
              "      <th>2</th>\n",
              "      <td>#1</td>\n",
              "      <td>Sup13</td>\n",
              "      <td>0.015</td>\n",
              "      <td>1</td>\n",
              "      <td>1464.00</td>\n",
              "      <td>0</td>\n",
              "    </tr>\n",
              "    <tr>\n",
              "      <th>3</th>\n",
              "      <td>#1</td>\n",
              "      <td>Sup14</td>\n",
              "      <td>0.018</td>\n",
              "      <td>1</td>\n",
              "      <td>1620.00</td>\n",
              "      <td>0</td>\n",
              "    </tr>\n",
              "    <tr>\n",
              "      <th>4</th>\n",
              "      <td>#2</td>\n",
              "      <td>Sup21</td>\n",
              "      <td>0.043</td>\n",
              "      <td>1</td>\n",
              "      <td>278.40</td>\n",
              "      <td>0</td>\n",
              "    </tr>\n",
              "    <tr>\n",
              "      <th>5</th>\n",
              "      <td>#2</td>\n",
              "      <td>Sup22</td>\n",
              "      <td>0.013</td>\n",
              "      <td>0</td>\n",
              "      <td>289.20</td>\n",
              "      <td>0</td>\n",
              "    </tr>\n",
              "    <tr>\n",
              "      <th>6</th>\n",
              "      <td>#2</td>\n",
              "      <td>Sup23</td>\n",
              "      <td>0.060</td>\n",
              "      <td>1</td>\n",
              "      <td>252.00</td>\n",
              "      <td>0</td>\n",
              "    </tr>\n",
              "    <tr>\n",
              "      <th>7</th>\n",
              "      <td>#2</td>\n",
              "      <td>Sup24</td>\n",
              "      <td>0.026</td>\n",
              "      <td>1</td>\n",
              "      <td>264.00</td>\n",
              "      <td>0</td>\n",
              "    </tr>\n",
              "    <tr>\n",
              "      <th>8</th>\n",
              "      <td>#2</td>\n",
              "      <td>Sup25</td>\n",
              "      <td>0.024</td>\n",
              "      <td>1</td>\n",
              "      <td>270.00</td>\n",
              "      <td>0</td>\n",
              "    </tr>\n",
              "    <tr>\n",
              "      <th>9</th>\n",
              "      <td>#3</td>\n",
              "      <td>Sup31</td>\n",
              "      <td>0.034</td>\n",
              "      <td>1</td>\n",
              "      <td>224.00</td>\n",
              "      <td>710</td>\n",
              "    </tr>\n",
              "    <tr>\n",
              "      <th>10</th>\n",
              "      <td>#3</td>\n",
              "      <td>Sup32</td>\n",
              "      <td>0.100</td>\n",
              "      <td>0</td>\n",
              "      <td>212.00</td>\n",
              "      <td>587</td>\n",
              "    </tr>\n",
              "    <tr>\n",
              "      <th>11</th>\n",
              "      <td>#3</td>\n",
              "      <td>Sup33</td>\n",
              "      <td>0.011</td>\n",
              "      <td>1</td>\n",
              "      <td>236.00</td>\n",
              "      <td>647</td>\n",
              "    </tr>\n",
              "    <tr>\n",
              "      <th>12</th>\n",
              "      <td>#3</td>\n",
              "      <td>Sup34</td>\n",
              "      <td>0.091</td>\n",
              "      <td>0</td>\n",
              "      <td>219.60</td>\n",
              "      <td>680</td>\n",
              "    </tr>\n",
              "    <tr>\n",
              "      <th>13</th>\n",
              "      <td>#4</td>\n",
              "      <td>Sup41</td>\n",
              "      <td>0.031</td>\n",
              "      <td>1</td>\n",
              "      <td>271.00</td>\n",
              "      <td>0</td>\n",
              "    </tr>\n",
              "    <tr>\n",
              "      <th>14</th>\n",
              "      <td>#4</td>\n",
              "      <td>Sup42</td>\n",
              "      <td>0.012</td>\n",
              "      <td>1</td>\n",
              "      <td>278.00</td>\n",
              "      <td>0</td>\n",
              "    </tr>\n",
              "    <tr>\n",
              "      <th>15</th>\n",
              "      <td>#4</td>\n",
              "      <td>Sup43</td>\n",
              "      <td>0.021</td>\n",
              "      <td>1</td>\n",
              "      <td>257.00</td>\n",
              "      <td>0</td>\n",
              "    </tr>\n",
              "    <tr>\n",
              "      <th>16</th>\n",
              "      <td>#4</td>\n",
              "      <td>Sup44</td>\n",
              "      <td>0.020</td>\n",
              "      <td>1</td>\n",
              "      <td>292.00</td>\n",
              "      <td>0</td>\n",
              "    </tr>\n",
              "    <tr>\n",
              "      <th>17</th>\n",
              "      <td>#4</td>\n",
              "      <td>Sup45</td>\n",
              "      <td>0.016</td>\n",
              "      <td>1</td>\n",
              "      <td>299.00</td>\n",
              "      <td>0</td>\n",
              "    </tr>\n",
              "    <tr>\n",
              "      <th>18</th>\n",
              "      <td>#5</td>\n",
              "      <td>Sup51</td>\n",
              "      <td>0.068</td>\n",
              "      <td>0</td>\n",
              "      <td>213.00</td>\n",
              "      <td>0</td>\n",
              "    </tr>\n",
              "    <tr>\n",
              "      <th>19</th>\n",
              "      <td>#5</td>\n",
              "      <td>Sup52</td>\n",
              "      <td>0.085</td>\n",
              "      <td>0</td>\n",
              "      <td>221.25</td>\n",
              "      <td>0</td>\n",
              "    </tr>\n",
              "    <tr>\n",
              "      <th>20</th>\n",
              "      <td>#5</td>\n",
              "      <td>Sup53</td>\n",
              "      <td>0.075</td>\n",
              "      <td>1</td>\n",
              "      <td>229.50</td>\n",
              "      <td>0</td>\n",
              "    </tr>\n",
              "    <tr>\n",
              "      <th>21</th>\n",
              "      <td>#5</td>\n",
              "      <td>Sup54</td>\n",
              "      <td>0.067</td>\n",
              "      <td>0</td>\n",
              "      <td>218.00</td>\n",
              "      <td>0</td>\n",
              "    </tr>\n",
              "    <tr>\n",
              "      <th>22</th>\n",
              "      <td>#6</td>\n",
              "      <td>Sup61</td>\n",
              "      <td>0.014</td>\n",
              "      <td>1</td>\n",
              "      <td>684.00</td>\n",
              "      <td>0</td>\n",
              "    </tr>\n",
              "    <tr>\n",
              "      <th>23</th>\n",
              "      <td>#6</td>\n",
              "      <td>Sup62</td>\n",
              "      <td>0.014</td>\n",
              "      <td>1</td>\n",
              "      <td>596.00</td>\n",
              "      <td>0</td>\n",
              "    </tr>\n",
              "    <tr>\n",
              "      <th>24</th>\n",
              "      <td>#6</td>\n",
              "      <td>Sup63</td>\n",
              "      <td>0.061</td>\n",
              "      <td>1</td>\n",
              "      <td>460.00</td>\n",
              "      <td>0</td>\n",
              "    </tr>\n",
              "    <tr>\n",
              "      <th>25</th>\n",
              "      <td>#6</td>\n",
              "      <td>Sup64</td>\n",
              "      <td>0.020</td>\n",
              "      <td>1</td>\n",
              "      <td>560.00</td>\n",
              "      <td>0</td>\n",
              "    </tr>\n",
              "    <tr>\n",
              "      <th>26</th>\n",
              "      <td>#7</td>\n",
              "      <td>Sup71</td>\n",
              "      <td>0.016</td>\n",
              "      <td>1</td>\n",
              "      <td>570.00</td>\n",
              "      <td>109</td>\n",
              "    </tr>\n",
              "    <tr>\n",
              "      <th>27</th>\n",
              "      <td>#7</td>\n",
              "      <td>Sup72</td>\n",
              "      <td>0.013</td>\n",
              "      <td>1</td>\n",
              "      <td>620.00</td>\n",
              "      <td>107</td>\n",
              "    </tr>\n",
              "    <tr>\n",
              "      <th>28</th>\n",
              "      <td>#7</td>\n",
              "      <td>Sup73</td>\n",
              "      <td>0.030</td>\n",
              "      <td>1</td>\n",
              "      <td>540.00</td>\n",
              "      <td>88</td>\n",
              "    </tr>\n",
              "    <tr>\n",
              "      <th>29</th>\n",
              "      <td>#7</td>\n",
              "      <td>Sup74</td>\n",
              "      <td>0.057</td>\n",
              "      <td>1</td>\n",
              "      <td>500.00</td>\n",
              "      <td>131</td>\n",
              "    </tr>\n",
              "    <tr>\n",
              "      <th>30</th>\n",
              "      <td>#8</td>\n",
              "      <td>Sup81</td>\n",
              "      <td>0.035</td>\n",
              "      <td>1</td>\n",
              "      <td>275.00</td>\n",
              "      <td>0</td>\n",
              "    </tr>\n",
              "    <tr>\n",
              "      <th>31</th>\n",
              "      <td>#8</td>\n",
              "      <td>Sup82</td>\n",
              "      <td>0.058</td>\n",
              "      <td>1</td>\n",
              "      <td>257.00</td>\n",
              "      <td>0</td>\n",
              "    </tr>\n",
              "    <tr>\n",
              "      <th>32</th>\n",
              "      <td>#8</td>\n",
              "      <td>Sup83</td>\n",
              "      <td>0.063</td>\n",
              "      <td>1</td>\n",
              "      <td>260.00</td>\n",
              "      <td>0</td>\n",
              "    </tr>\n",
              "    <tr>\n",
              "      <th>33</th>\n",
              "      <td>#8</td>\n",
              "      <td>Sup84</td>\n",
              "      <td>0.046</td>\n",
              "      <td>1</td>\n",
              "      <td>300.00</td>\n",
              "      <td>0</td>\n",
              "    </tr>\n",
              "    <tr>\n",
              "      <th>34</th>\n",
              "      <td>#8</td>\n",
              "      <td>Sup85</td>\n",
              "      <td>0.014</td>\n",
              "      <td>1</td>\n",
              "      <td>310.00</td>\n",
              "      <td>0</td>\n",
              "    </tr>\n",
              "    <tr>\n",
              "      <th>35</th>\n",
              "      <td>#9</td>\n",
              "      <td>Sup91</td>\n",
              "      <td>0.019</td>\n",
              "      <td>1</td>\n",
              "      <td>420.00</td>\n",
              "      <td>0</td>\n",
              "    </tr>\n",
              "    <tr>\n",
              "      <th>36</th>\n",
              "      <td>#9</td>\n",
              "      <td>Sup92</td>\n",
              "      <td>0.029</td>\n",
              "      <td>0</td>\n",
              "      <td>404.00</td>\n",
              "      <td>0</td>\n",
              "    </tr>\n",
              "    <tr>\n",
              "      <th>37</th>\n",
              "      <td>#9</td>\n",
              "      <td>Sup93</td>\n",
              "      <td>0.059</td>\n",
              "      <td>0</td>\n",
              "      <td>388.00</td>\n",
              "      <td>0</td>\n",
              "    </tr>\n",
              "    <tr>\n",
              "      <th>38</th>\n",
              "      <td>#9</td>\n",
              "      <td>Sup94</td>\n",
              "      <td>0.091</td>\n",
              "      <td>0</td>\n",
              "      <td>388.00</td>\n",
              "      <td>0</td>\n",
              "    </tr>\n",
              "    <tr>\n",
              "      <th>39</th>\n",
              "      <td>#9</td>\n",
              "      <td>Sup95</td>\n",
              "      <td>0.035</td>\n",
              "      <td>1</td>\n",
              "      <td>412.00</td>\n",
              "      <td>0</td>\n",
              "    </tr>\n",
              "    <tr>\n",
              "      <th>40</th>\n",
              "      <td>#10</td>\n",
              "      <td>Sup101</td>\n",
              "      <td>0.077</td>\n",
              "      <td>0</td>\n",
              "      <td>203.00</td>\n",
              "      <td>0</td>\n",
              "    </tr>\n",
              "    <tr>\n",
              "      <th>41</th>\n",
              "      <td>#10</td>\n",
              "      <td>Sup102</td>\n",
              "      <td>0.031</td>\n",
              "      <td>0</td>\n",
              "      <td>215.00</td>\n",
              "      <td>0</td>\n",
              "    </tr>\n",
              "    <tr>\n",
              "      <th>42</th>\n",
              "      <td>#10</td>\n",
              "      <td>Sup103</td>\n",
              "      <td>0.038</td>\n",
              "      <td>0</td>\n",
              "      <td>212.00</td>\n",
              "      <td>0</td>\n",
              "    </tr>\n",
              "  </tbody>\n",
              "</table>\n",
              "</div>"
            ],
            "text/plain": [
              "   Component # Supplier  Defect Rate  UL Certified  Cost (NT$)  \\\n",
              "0           #1    Sup11        0.037             1     1380.00   \n",
              "1           #1    Sup12        0.017             1     1668.00   \n",
              "2           #1    Sup13        0.015             1     1464.00   \n",
              "3           #1    Sup14        0.018             1     1620.00   \n",
              "4           #2    Sup21        0.043             1      278.40   \n",
              "5           #2    Sup22        0.013             0      289.20   \n",
              "6           #2    Sup23        0.060             1      252.00   \n",
              "7           #2    Sup24        0.026             1      264.00   \n",
              "8           #2    Sup25        0.024             1      270.00   \n",
              "9           #3    Sup31        0.034             1      224.00   \n",
              "10          #3    Sup32        0.100             0      212.00   \n",
              "11          #3    Sup33        0.011             1      236.00   \n",
              "12          #3    Sup34        0.091             0      219.60   \n",
              "13          #4    Sup41        0.031             1      271.00   \n",
              "14          #4    Sup42        0.012             1      278.00   \n",
              "15          #4    Sup43        0.021             1      257.00   \n",
              "16          #4    Sup44        0.020             1      292.00   \n",
              "17          #4    Sup45        0.016             1      299.00   \n",
              "18          #5    Sup51        0.068             0      213.00   \n",
              "19          #5    Sup52        0.085             0      221.25   \n",
              "20          #5    Sup53        0.075             1      229.50   \n",
              "21          #5    Sup54        0.067             0      218.00   \n",
              "22          #6    Sup61        0.014             1      684.00   \n",
              "23          #6    Sup62        0.014             1      596.00   \n",
              "24          #6    Sup63        0.061             1      460.00   \n",
              "25          #6    Sup64        0.020             1      560.00   \n",
              "26          #7    Sup71        0.016             1      570.00   \n",
              "27          #7    Sup72        0.013             1      620.00   \n",
              "28          #7    Sup73        0.030             1      540.00   \n",
              "29          #7    Sup74        0.057             1      500.00   \n",
              "30          #8    Sup81        0.035             1      275.00   \n",
              "31          #8    Sup82        0.058             1      257.00   \n",
              "32          #8    Sup83        0.063             1      260.00   \n",
              "33          #8    Sup84        0.046             1      300.00   \n",
              "34          #8    Sup85        0.014             1      310.00   \n",
              "35          #9    Sup91        0.019             1      420.00   \n",
              "36          #9    Sup92        0.029             0      404.00   \n",
              "37          #9    Sup93        0.059             0      388.00   \n",
              "38          #9    Sup94        0.091             0      388.00   \n",
              "39          #9    Sup95        0.035             1      412.00   \n",
              "40         #10   Sup101        0.077             0      203.00   \n",
              "41         #10   Sup102        0.031             0      215.00   \n",
              "42         #10   Sup103        0.038             0      212.00   \n",
              "\n",
              "    Extra Pre-Assembly Cost (NT$)  \n",
              "0                               0  \n",
              "1                               0  \n",
              "2                               0  \n",
              "3                               0  \n",
              "4                               0  \n",
              "5                               0  \n",
              "6                               0  \n",
              "7                               0  \n",
              "8                               0  \n",
              "9                             710  \n",
              "10                            587  \n",
              "11                            647  \n",
              "12                            680  \n",
              "13                              0  \n",
              "14                              0  \n",
              "15                              0  \n",
              "16                              0  \n",
              "17                              0  \n",
              "18                              0  \n",
              "19                              0  \n",
              "20                              0  \n",
              "21                              0  \n",
              "22                              0  \n",
              "23                              0  \n",
              "24                              0  \n",
              "25                              0  \n",
              "26                            109  \n",
              "27                            107  \n",
              "28                             88  \n",
              "29                            131  \n",
              "30                              0  \n",
              "31                              0  \n",
              "32                              0  \n",
              "33                              0  \n",
              "34                              0  \n",
              "35                              0  \n",
              "36                              0  \n",
              "37                              0  \n",
              "38                              0  \n",
              "39                              0  \n",
              "40                              0  \n",
              "41                              0  \n",
              "42                              0  "
            ]
          },
          "execution_count": 4,
          "metadata": {},
          "output_type": "execute_result"
        }
      ],
      "source": [
        "# Import data\n",
        "\n",
        "df = pd.read_csv('/Users/hiradnourbakhsh/Desktop/MGSC 695_R/Assignment 2/APLO Raw Data.csv')\n",
        "df"
      ]
    },
    {
      "cell_type": "code",
      "execution_count": null,
      "id": "afee5144",
      "metadata": {
        "id": "afee5144",
        "outputId": "406cfe70-9a83-4db9-f039-c94e92d728d2"
      },
      "outputs": [
        {
          "name": "stdout",
          "output_type": "stream",
          "text": [
            "Set parameter Username\n",
            "Academic license - for non-commercial use only - expires 2022-06-02\n"
          ]
        }
      ],
      "source": [
        "# Define model\n",
        "\n",
        "model = gp.Model('APLO')"
      ]
    },
    {
      "cell_type": "markdown",
      "id": "3a5c5b15",
      "metadata": {
        "id": "3a5c5b15"
      },
      "source": [
        "## Preparing NumPy arrays"
      ]
    },
    {
      "cell_type": "markdown",
      "id": "e2894f4a",
      "metadata": {
        "id": "e2894f4a"
      },
      "source": [
        "## I'm inserting dummy variables here so that all NumPy arrays have the same shape. This is for the ease of my own analysis. The dummy variables will be set to 0 below to ensure that they do not conflict with the optimal solution."
      ]
    },
    {
      "cell_type": "code",
      "execution_count": null,
      "id": "59b216ab",
      "metadata": {
        "id": "59b216ab",
        "outputId": "c2ddf7a1-125f-4688-874f-75a35745df9f"
      },
      "outputs": [
        {
          "data": {
            "text/plain": [
              "array(['Sup11', 'Sup12', 'Sup13', 'Sup14', 'Sup15', 'Sup21', 'Sup22',\n",
              "       'Sup23', 'Sup24', 'Sup25', 'Sup31', 'Sup32', 'Sup33', 'Sup34',\n",
              "       'Sup35', 'Sup41', 'Sup42', 'Sup43', 'Sup44', 'Sup45', 'Sup51',\n",
              "       'Sup52', 'Sup53', 'Sup54', 'Sup55', 'Sup61', 'Sup62', 'Sup63',\n",
              "       'Sup64', 'Sup65', 'Sup71', 'Sup72', 'Sup73', 'Sup74', 'Sup75',\n",
              "       'Sup81', 'Sup82', 'Sup83', 'Sup84', 'Sup85', 'Sup91', 'Sup92',\n",
              "       'Sup93', 'Sup94', 'Sup95', 'Sup101', 'Sup102', 'Sup103', 'Sup104',\n",
              "       'Sup105'], dtype=object)"
            ]
          },
          "execution_count": 6,
          "metadata": {},
          "output_type": "execute_result"
        }
      ],
      "source": [
        "sup_arr = df['Supplier'].to_numpy()\n",
        "sup_arr = np.insert(sup_arr, 4, 'Sup15')\n",
        "sup_arr = np.insert(sup_arr, 14, 'Sup35')\n",
        "sup_arr = np.insert(sup_arr, 24, 'Sup55')\n",
        "sup_arr = np.insert(sup_arr, 29, 'Sup65')\n",
        "sup_arr = np.insert(sup_arr, 34, 'Sup75')\n",
        "sup_arr = np.append(sup_arr, 'Sup104')\n",
        "sup_arr = np.append(sup_arr, 'Sup105')\n",
        "sup_arr"
      ]
    },
    {
      "cell_type": "code",
      "execution_count": null,
      "id": "b110675f",
      "metadata": {
        "id": "b110675f",
        "outputId": "fa23a8d8-562a-49c5-84dd-b7335d7551ee"
      },
      "outputs": [
        {
          "data": {
            "text/plain": [
              "array([0.037, 0.017, 0.015, 0.018, 0.   , 0.043, 0.013, 0.06 , 0.026,\n",
              "       0.024, 0.034, 0.1  , 0.011, 0.091, 0.   , 0.031, 0.012, 0.021,\n",
              "       0.02 , 0.016, 0.068, 0.085, 0.075, 0.067, 0.   , 0.014, 0.014,\n",
              "       0.061, 0.02 , 0.   , 0.016, 0.013, 0.03 , 0.057, 0.   , 0.035,\n",
              "       0.058, 0.063, 0.046, 0.014, 0.019, 0.029, 0.059, 0.091, 0.035,\n",
              "       0.077, 0.031, 0.038, 0.   , 0.   ])"
            ]
          },
          "execution_count": 7,
          "metadata": {},
          "output_type": "execute_result"
        }
      ],
      "source": [
        "def_arr = df['Defect Rate'].to_numpy()\n",
        "def_arr = np.insert(def_arr, 4, 0)\n",
        "def_arr = np.insert(def_arr, 14, 0)\n",
        "def_arr = np.insert(def_arr, 24, 0)\n",
        "def_arr = np.insert(def_arr, 29, 0)\n",
        "def_arr = np.insert(def_arr, 34, 0)\n",
        "def_arr = np.append(def_arr, 0)\n",
        "def_arr = np.append(def_arr, 0)\n",
        "def_arr"
      ]
    },
    {
      "cell_type": "code",
      "execution_count": null,
      "id": "6e786bc3",
      "metadata": {
        "id": "6e786bc3",
        "outputId": "440b6fdb-fb96-45f0-e5fb-406456428ff3"
      },
      "outputs": [
        {
          "data": {
            "text/plain": [
              "array([1, 1, 1, 1, 0, 1, 0, 1, 1, 1, 1, 0, 1, 0, 0, 1, 1, 1, 1, 1, 0, 0,\n",
              "       1, 0, 0, 1, 1, 1, 1, 0, 1, 1, 1, 1, 0, 1, 1, 1, 1, 1, 1, 0, 0, 0,\n",
              "       1, 0, 0, 0, 0, 0])"
            ]
          },
          "execution_count": 8,
          "metadata": {},
          "output_type": "execute_result"
        }
      ],
      "source": [
        "UL_arr = df['UL Certified'].to_numpy()\n",
        "UL_arr = np.insert(UL_arr, 4, 0)\n",
        "UL_arr = np.insert(UL_arr, 14, 0)\n",
        "UL_arr = np.insert(UL_arr, 24, 0)\n",
        "UL_arr = np.insert(UL_arr, 29, 0)\n",
        "UL_arr = np.insert(UL_arr, 34, 0)\n",
        "UL_arr = np.append(UL_arr, 0)\n",
        "UL_arr = np.append(UL_arr, 0)\n",
        "UL_arr"
      ]
    },
    {
      "cell_type": "code",
      "execution_count": null,
      "id": "f8caab0a",
      "metadata": {
        "id": "f8caab0a",
        "outputId": "1b14c97b-5d60-405a-a237-eafa7d5a60d0"
      },
      "outputs": [
        {
          "data": {
            "text/plain": [
              "array([1380.  , 1668.  , 1464.  , 1620.  ,    0.  ,  278.4 ,  289.2 ,\n",
              "        252.  ,  264.  ,  270.  ,  224.  ,  212.  ,  236.  ,  219.6 ,\n",
              "          0.  ,  271.  ,  278.  ,  257.  ,  292.  ,  299.  ,  213.  ,\n",
              "        221.25,  229.5 ,  218.  ,    0.  ,  684.  ,  596.  ,  460.  ,\n",
              "        560.  ,    0.  ,  570.  ,  620.  ,  540.  ,  500.  ,    0.  ,\n",
              "        275.  ,  257.  ,  260.  ,  300.  ,  310.  ,  420.  ,  404.  ,\n",
              "        388.  ,  388.  ,  412.  ,  203.  ,  215.  ,  212.  ,    0.  ,\n",
              "          0.  ])"
            ]
          },
          "execution_count": 9,
          "metadata": {},
          "output_type": "execute_result"
        }
      ],
      "source": [
        "cost_arr = df['Cost (NT$)'].to_numpy()\n",
        "cost_arr = np.insert(cost_arr, 4, 0)\n",
        "cost_arr = np.insert(cost_arr, 14, 0)\n",
        "cost_arr = np.insert(cost_arr, 24, 0)\n",
        "cost_arr = np.insert(cost_arr, 29, 0)\n",
        "cost_arr = np.insert(cost_arr, 34, 0)\n",
        "cost_arr = np.append(cost_arr, 0)\n",
        "cost_arr = np.append(cost_arr, 0)\n",
        "cost_arr"
      ]
    },
    {
      "cell_type": "code",
      "execution_count": null,
      "id": "3f0600e0",
      "metadata": {
        "id": "3f0600e0",
        "outputId": "f63f530c-1a13-4856-cfd1-01db451b4ba7"
      },
      "outputs": [
        {
          "data": {
            "text/plain": [
              "array([  0,   0,   0,   0,   0,   0,   0,   0,   0,   0, 710, 587, 647,\n",
              "       680,   0,   0,   0,   0,   0,   0,   0,   0,   0,   0,   0,   0,\n",
              "         0,   0,   0,   0, 109, 107,  88, 131,   0,   0,   0,   0,   0,\n",
              "         0,   0,   0,   0,   0,   0,   0,   0,   0,   0,   0])"
            ]
          },
          "execution_count": 10,
          "metadata": {},
          "output_type": "execute_result"
        }
      ],
      "source": [
        "extra_arr = df['Extra Pre-Assembly Cost (NT$)'].to_numpy()\n",
        "extra_arr = np.insert(extra_arr, 4, 0)\n",
        "extra_arr = np.insert(extra_arr, 14, 0)\n",
        "extra_arr = np.insert(extra_arr, 24, 0)\n",
        "extra_arr = np.insert(extra_arr, 29, 0)\n",
        "extra_arr = np.insert(extra_arr, 34, 0)\n",
        "extra_arr = np.append(extra_arr, 0)\n",
        "extra_arr = np.append(extra_arr, 0)\n",
        "extra_arr"
      ]
    },
    {
      "cell_type": "markdown",
      "id": "31d14108",
      "metadata": {
        "id": "31d14108"
      },
      "source": [
        "## Reshaping NumPy Arrays"
      ]
    },
    {
      "cell_type": "code",
      "execution_count": null,
      "id": "ecfd9bcf",
      "metadata": {
        "id": "ecfd9bcf"
      },
      "outputs": [],
      "source": [
        "sup_arr = sup_arr.reshape(10, 5)\n",
        "def_arr = def_arr.reshape(10, 5)\n",
        "UL_arr = UL_arr.reshape(10, 5)\n",
        "cost_arr = cost_arr.reshape(10, 5)\n",
        "extra_arr = extra_arr.reshape(10, 5)"
      ]
    },
    {
      "cell_type": "code",
      "execution_count": null,
      "id": "d5f64737",
      "metadata": {
        "id": "d5f64737",
        "outputId": "7a8ebc53-640f-48aa-c1be-572eb3437417"
      },
      "outputs": [
        {
          "data": {
            "text/plain": [
              "array([[  0,   0,   0,   0,   0],\n",
              "       [  0,   0,   0,   0,   0],\n",
              "       [710, 587, 647, 680,   0],\n",
              "       [  0,   0,   0,   0,   0],\n",
              "       [  0,   0,   0,   0,   0],\n",
              "       [  0,   0,   0,   0,   0],\n",
              "       [109, 107,  88, 131,   0],\n",
              "       [  0,   0,   0,   0,   0],\n",
              "       [  0,   0,   0,   0,   0],\n",
              "       [  0,   0,   0,   0,   0]])"
            ]
          },
          "execution_count": 13,
          "metadata": {},
          "output_type": "execute_result"
        }
      ],
      "source": [
        "extra_arr"
      ]
    },
    {
      "cell_type": "code",
      "execution_count": null,
      "id": "47647fe2",
      "metadata": {
        "id": "47647fe2",
        "outputId": "01a28e1a-0d73-46a9-830b-e48f70d8862a"
      },
      "outputs": [
        {
          "data": {
            "text/plain": [
              "array([[1380.  , 1668.  , 1464.  , 1620.  ,    0.  ],\n",
              "       [ 278.4 ,  289.2 ,  252.  ,  264.  ,  270.  ],\n",
              "       [ 224.  ,  212.  ,  236.  ,  219.6 ,    0.  ],\n",
              "       [ 271.  ,  278.  ,  257.  ,  292.  ,  299.  ],\n",
              "       [ 213.  ,  221.25,  229.5 ,  218.  ,    0.  ],\n",
              "       [ 684.  ,  596.  ,  460.  ,  560.  ,    0.  ],\n",
              "       [ 570.  ,  620.  ,  540.  ,  500.  ,    0.  ],\n",
              "       [ 275.  ,  257.  ,  260.  ,  300.  ,  310.  ],\n",
              "       [ 420.  ,  404.  ,  388.  ,  388.  ,  412.  ],\n",
              "       [ 203.  ,  215.  ,  212.  ,    0.  ,    0.  ]])"
            ]
          },
          "execution_count": 14,
          "metadata": {},
          "output_type": "execute_result"
        }
      ],
      "source": [
        "cost_arr"
      ]
    },
    {
      "cell_type": "code",
      "execution_count": null,
      "id": "cfac1b65",
      "metadata": {
        "id": "cfac1b65",
        "outputId": "eb9dfaf8-b333-4ad7-e50b-067222d63f10"
      },
      "outputs": [
        {
          "data": {
            "text/plain": [
              "array([[1380.  , 1668.  , 1464.  , 1620.  ,    0.  ],\n",
              "       [ 278.4 ,  289.2 ,  252.  ,  264.  ,  270.  ],\n",
              "       [ 934.  ,  799.  ,  883.  ,  899.6 ,    0.  ],\n",
              "       [ 271.  ,  278.  ,  257.  ,  292.  ,  299.  ],\n",
              "       [ 213.  ,  221.25,  229.5 ,  218.  ,    0.  ],\n",
              "       [ 684.  ,  596.  ,  460.  ,  560.  ,    0.  ],\n",
              "       [ 679.  ,  727.  ,  628.  ,  631.  ,    0.  ],\n",
              "       [ 275.  ,  257.  ,  260.  ,  300.  ,  310.  ],\n",
              "       [ 420.  ,  404.  ,  388.  ,  388.  ,  412.  ],\n",
              "       [ 203.  ,  215.  ,  212.  ,    0.  ,    0.  ]])"
            ]
          },
          "execution_count": 15,
          "metadata": {},
          "output_type": "execute_result"
        }
      ],
      "source": [
        "C = cost_arr + extra_arr\n",
        "C"
      ]
    },
    {
      "cell_type": "code",
      "execution_count": null,
      "id": "ae735dc2",
      "metadata": {
        "id": "ae735dc2",
        "outputId": "a0863bd7-b91f-4b0c-f575-22d197afc3b6"
      },
      "outputs": [
        {
          "data": {
            "text/plain": [
              "array([[0.037, 0.017, 0.015, 0.018, 0.   ],\n",
              "       [0.043, 0.013, 0.06 , 0.026, 0.024],\n",
              "       [0.034, 0.1  , 0.011, 0.091, 0.   ],\n",
              "       [0.031, 0.012, 0.021, 0.02 , 0.016],\n",
              "       [0.068, 0.085, 0.075, 0.067, 0.   ],\n",
              "       [0.014, 0.014, 0.061, 0.02 , 0.   ],\n",
              "       [0.016, 0.013, 0.03 , 0.057, 0.   ],\n",
              "       [0.035, 0.058, 0.063, 0.046, 0.014],\n",
              "       [0.019, 0.029, 0.059, 0.091, 0.035],\n",
              "       [0.077, 0.031, 0.038, 0.   , 0.   ]])"
            ]
          },
          "execution_count": 16,
          "metadata": {},
          "output_type": "execute_result"
        }
      ],
      "source": [
        "r = def_arr\n",
        "r"
      ]
    },
    {
      "cell_type": "code",
      "execution_count": null,
      "id": "862a646a",
      "metadata": {
        "id": "862a646a",
        "outputId": "83a76050-5de2-4121-9b87-27398ddc7333"
      },
      "outputs": [
        {
          "data": {
            "text/plain": [
              "array([[1, 1, 1, 1, 0],\n",
              "       [1, 0, 1, 1, 1],\n",
              "       [1, 0, 1, 0, 0],\n",
              "       [1, 1, 1, 1, 1],\n",
              "       [0, 0, 1, 0, 0],\n",
              "       [1, 1, 1, 1, 0],\n",
              "       [1, 1, 1, 1, 0],\n",
              "       [1, 1, 1, 1, 1],\n",
              "       [1, 0, 0, 0, 1],\n",
              "       [0, 0, 0, 0, 0]])"
            ]
          },
          "execution_count": 17,
          "metadata": {},
          "output_type": "execute_result"
        }
      ],
      "source": [
        "U = UL_arr\n",
        "U"
      ]
    },
    {
      "cell_type": "code",
      "execution_count": null,
      "id": "1a6ed171",
      "metadata": {
        "id": "1a6ed171"
      },
      "outputs": [],
      "source": [
        "# Set model parameters\n",
        "\n",
        "components = [1,2,3,4,5,6,7,8,9,10]\n",
        "suppliers = [1,2,3,4,5]"
      ]
    },
    {
      "cell_type": "code",
      "execution_count": null,
      "id": "3e14a69e",
      "metadata": {
        "id": "3e14a69e"
      },
      "outputs": [],
      "source": [
        "l = len(components)\n",
        "k = len(suppliers)\n",
        "I = range(l)\n",
        "J = range(k)"
      ]
    },
    {
      "cell_type": "code",
      "execution_count": null,
      "id": "799825e9",
      "metadata": {
        "id": "799825e9"
      },
      "outputs": [],
      "source": [
        "# Define variables\n",
        "\n",
        "x = model.addMVar((l,k), vtype = GRB.BINARY, name = ['x_' + str(i) + '_' + str(j) for i in I for j in J])\n",
        "\n"
      ]
    },
    {
      "cell_type": "code",
      "execution_count": null,
      "id": "c578e31e",
      "metadata": {
        "id": "c578e31e"
      },
      "outputs": [],
      "source": [
        "# setObjective\n",
        "\n",
        "exp = sum(x[i,j]*C[i,j] * (1 + r[i,j]) for i in I for j in J)\n",
        "model.setObjective(exp, GRB.MINIMIZE)"
      ]
    },
    {
      "cell_type": "code",
      "execution_count": null,
      "id": "b6176a8f",
      "metadata": {
        "id": "b6176a8f"
      },
      "outputs": [],
      "source": [
        "# Define constraints\n",
        "\n",
        "# One of each component number has to be selected (need all 10 components to build a light)\n",
        "\n",
        "for i in I:\n",
        "    model.addConstr(sum(x[i,j] for j in J) == 1)"
      ]
    },
    {
      "cell_type": "code",
      "execution_count": null,
      "id": "b173ef0f",
      "metadata": {
        "id": "b173ef0f",
        "outputId": "0953a361-798f-495a-89a2-3558123239be"
      },
      "outputs": [
        {
          "data": {
            "text/plain": [
              "<gurobi.Constr *Awaiting Model Update*>"
            ]
          },
          "execution_count": 24,
          "metadata": {},
          "output_type": "execute_result"
        }
      ],
      "source": [
        "# Define constraints\n",
        "\n",
        "# at least 7 of the 10 components must be UL-certified\n",
        "\n",
        "model.addConstr(sum(U[i,j]*x[i,j] for i in I for j in J) >= 7)\n"
      ]
    },
    {
      "cell_type": "code",
      "execution_count": null,
      "id": "8cf36093",
      "metadata": {
        "id": "8cf36093",
        "outputId": "f3dd1ae6-72f2-4820-b066-785e7440548b"
      },
      "outputs": [
        {
          "data": {
            "text/plain": [
              "<gurobi.Constr *Awaiting Model Update*>"
            ]
          },
          "execution_count": 25,
          "metadata": {},
          "output_type": "execute_result"
        }
      ],
      "source": [
        "# Define constraints\n",
        "\n",
        "# Compatibility\n",
        "\n",
        "model.addConstr(x[0,2] + x[1,2] <= 1)\n",
        "\n",
        "model.addConstr(x[1,0] == x[3,1])"
      ]
    },
    {
      "cell_type": "code",
      "execution_count": null,
      "id": "06e02473",
      "metadata": {
        "id": "06e02473",
        "outputId": "4f88963d-ca1d-4ad7-b7ef-abe75ceb9c57"
      },
      "outputs": [
        {
          "data": {
            "text/plain": [
              "<gurobi.Constr *Awaiting Model Update*>"
            ]
          },
          "execution_count": 26,
          "metadata": {},
          "output_type": "execute_result"
        }
      ],
      "source": [
        "# Define constraints\n",
        "\n",
        "# Budget cap\n",
        "\n",
        "model.addConstr(exp <= 5400)"
      ]
    },
    {
      "cell_type": "code",
      "execution_count": null,
      "id": "8b565fa1",
      "metadata": {
        "id": "8b565fa1",
        "outputId": "628ac3cc-6a3d-43fa-e3e6-27b396161616"
      },
      "outputs": [
        {
          "data": {
            "text/plain": [
              "<gurobi.Constr *Awaiting Model Update*>"
            ]
          },
          "execution_count": 27,
          "metadata": {},
          "output_type": "execute_result"
        }
      ],
      "source": [
        "# Define constraints\n",
        "# Dummy variables\n",
        "\n",
        "# Sup15, Sup35, Sup55, Sup65, Sup75, Sup104, Sup105 must be 0 (they do not actually exist)\n",
        "\n",
        "model.addConstr(x[0,4] == 0)\n",
        "model.addConstr(x[2,4] == 0)\n",
        "model.addConstr(x[4,4] == 0)\n",
        "model.addConstr(x[5,4] == 0)\n",
        "model.addConstr(x[6,4] == 0)\n",
        "model.addConstr(x[9,3] == 0)\n",
        "model.addConstr(x[9,4] == 0)"
      ]
    },
    {
      "cell_type": "code",
      "execution_count": null,
      "id": "874104c9",
      "metadata": {
        "id": "874104c9",
        "outputId": "8fa79181-3093-4190-bfa2-38233427b90e"
      },
      "outputs": [
        {
          "name": "stdout",
          "output_type": "stream",
          "text": [
            "Gurobi Optimizer version 9.5.1 build v9.5.1rc2 (mac64[x86])\n",
            "Thread count: 2 physical cores, 4 logical processors, using up to 4 threads\n",
            "Optimize a model with 21 rows, 50 columns and 135 nonzeros\n",
            "Model fingerprint: 0x8cbffdd9\n",
            "Variable types: 0 continuous, 50 integer (50 binary)\n",
            "Coefficient statistics:\n",
            "  Matrix range     [1e+00, 2e+03]\n",
            "  Objective range  [2e+02, 2e+03]\n",
            "  Bounds range     [1e+00, 1e+00]\n",
            "  RHS range        [1e+00, 5e+03]\n",
            "Found heuristic solution: objective 5333.3350000\n",
            "Presolve removed 21 rows and 50 columns\n",
            "Presolve time: 0.00s\n",
            "Presolve: All rows and columns removed\n",
            "\n",
            "Explored 0 nodes (0 simplex iterations) in 0.10 seconds (0.00 work units)\n",
            "Thread count was 1 (of 4 available processors)\n",
            "\n",
            "Solution count 2: 5117.1 5333.33 \n",
            "\n",
            "Optimal solution found (tolerance 1.00e-04)\n",
            "Best objective 5.117103000000e+03, best bound 5.117103000000e+03, gap 0.0000%\n"
          ]
        }
      ],
      "source": [
        "# optimize\n",
        "\n",
        "model.optimize()"
      ]
    },
    {
      "cell_type": "code",
      "execution_count": null,
      "id": "5c3f2acc",
      "metadata": {
        "id": "5c3f2acc",
        "outputId": "06e735d9-5eab-4ffa-d6aa-8b5102e40fe2"
      },
      "outputs": [
        {
          "data": {
            "text/plain": [
              "5117.103"
            ]
          },
          "execution_count": 29,
          "metadata": {},
          "output_type": "execute_result"
        }
      ],
      "source": [
        "model.objVal"
      ]
    },
    {
      "cell_type": "markdown",
      "id": "9961d20a",
      "metadata": {
        "id": "9961d20a"
      },
      "source": [
        "# Solution: The minimal cost is $5117.103."
      ]
    },
    {
      "cell_type": "markdown",
      "source": [
        "# Optimal allocation decisions:"
      ],
      "metadata": {
        "id": "vxvcYflMLNIk"
      },
      "id": "vxvcYflMLNIk"
    },
    {
      "cell_type": "code",
      "execution_count": null,
      "id": "0cfdfc92",
      "metadata": {
        "scrolled": true,
        "id": "0cfdfc92",
        "outputId": "554a4e79-19fc-48e6-e943-52a3b763c3f0"
      },
      "outputs": [
        {
          "name": "stdout",
          "output_type": "stream",
          "text": [
            "\n",
            "    Variable            X \n",
            "-------------------------\n",
            "       x_0_0            1 \n",
            "       x_1_2            1 \n",
            "       x_2_2            1 \n",
            "       x_3_2            1 \n",
            "       x_4_0            1 \n",
            "       x_5_2            1 \n",
            "       x_6_2            1 \n",
            "       x_7_1            1 \n",
            "       x_8_2            1 \n",
            "       x_9_0            1 \n"
          ]
        }
      ],
      "source": [
        "model.printAttr('X')"
      ]
    },
    {
      "cell_type": "markdown",
      "id": "5132c02d",
      "metadata": {
        "id": "5132c02d"
      },
      "source": [
        "# We will now develop a non-linear model that maximizes the probability that no components fail over the five-year guarantee period, subject to budget constraints."
      ]
    },
    {
      "cell_type": "markdown",
      "source": [
        "# Mathematical Formulation"
      ],
      "metadata": {
        "id": "h_V3SWDsK9DJ"
      },
      "id": "h_V3SWDsK9DJ"
    },
    {
      "cell_type": "markdown",
      "id": "f200faba",
      "metadata": {
        "id": "f200faba"
      },
      "source": [
        "Decision variables:\n",
        "\n",
        "$ x_{i,j} $ = whether or not to purchase component $ i $ from supplier $ j $ \n",
        "\n",
        "where $ i = 1,...,10, j = 1,...5 $\n",
        "\n",
        "Model parameters:\n",
        "\n",
        "$ C_{i,j} $ = total cost of a given component $ i $ sourced from supplier $ j $\n",
        "\n",
        "$ U_{i,j} $ = UL-certification of a given component $ i $ sourced from supplier $ j $ (binary)\n",
        "\n",
        "$ r_{i,j} $ = defect rate of a given component $ i $ sourced from supplier $ j $\n",
        "\n",
        "Objective function:\n",
        "\n",
        "Minimize\n",
        "\n",
        "$\\sum \\limits _{i=1} ^{10}\\sum \\limits _{j=1} ^{5} r_{i,j} x_{i,j} $\n",
        "\n",
        "Constraints:\n",
        "\n",
        "$ x_{i,j} \\in {0,1} $ for all $ i = 1,...,10 $ for all $ j = 1,...,5 $ (x is binary variable)\n",
        "\n",
        "One of each component number has to be selected for each light:\n",
        "\n",
        "$\\sum \\limits _{j=1} ^{5} x_{i,j} = 1 $ for all $ i = 1,...,10 $\n",
        "\n",
        "At least 7 of the 10 components must be UL-certified:\n",
        "\n",
        "$\\sum \\limits _{i=1} ^{10}\\sum \\limits _{j=1} ^{5} U_{i,j} x_{i,j} ≥ 7 $\n",
        "\n",
        "Compatibility constraints:\n",
        "\n",
        "$ x_{1,3} + x_{2,3} ≤ 1 $\n",
        "\n",
        "$ x_{2,1} = x_{4,2} $\n",
        "\n",
        "Budget:\n",
        "\n",
        "$\\sum \\limits _{i=1} ^{10}\\sum \\limits _{j=1} ^{5} x_{i,j} C_{i,j} (1 + r_{i,j}) ≤ 5400 $"
      ]
    },
    {
      "cell_type": "markdown",
      "id": "a1ab789a",
      "metadata": {
        "id": "a1ab789a"
      },
      "source": [
        "This will be more difficult to implement because when we eliminate the assumption that each component fails at most once every five years, we increase the range of values the optimal solution can fall in."
      ]
    },
    {
      "cell_type": "markdown",
      "id": "a10c8795",
      "metadata": {
        "id": "a10c8795"
      },
      "source": [
        "# Solution"
      ]
    },
    {
      "cell_type": "code",
      "execution_count": null,
      "id": "a6f6b144",
      "metadata": {
        "id": "a6f6b144"
      },
      "outputs": [],
      "source": [
        "# Define model\n",
        "\n",
        "model = gp.Model('APLO2')"
      ]
    },
    {
      "cell_type": "code",
      "execution_count": null,
      "id": "73b388fa",
      "metadata": {
        "id": "73b388fa"
      },
      "outputs": [],
      "source": [
        "# Define variables\n",
        "\n",
        "x = model.addMVar((l,k), vtype = GRB.BINARY, name = ['x_' + str(i) + '_' + str(j) for i in I for j in J])"
      ]
    },
    {
      "cell_type": "code",
      "execution_count": null,
      "id": "577314e3",
      "metadata": {
        "id": "577314e3"
      },
      "outputs": [],
      "source": [
        "# setObjective\n",
        "\n",
        "exp = sum(r[i,j]*x[i,j] for i in I for j in J)\n",
        "model.setObjective(exp, GRB.MINIMIZE)"
      ]
    },
    {
      "cell_type": "code",
      "execution_count": null,
      "id": "9a68c7b0",
      "metadata": {
        "id": "9a68c7b0",
        "outputId": "78e34d51-d4ae-4306-b3cd-16abac344cb5"
      },
      "outputs": [
        {
          "data": {
            "text/plain": [
              "<gurobi.Constr *Awaiting Model Update*>"
            ]
          },
          "execution_count": 40,
          "metadata": {},
          "output_type": "execute_result"
        }
      ],
      "source": [
        "# add constraints\n",
        "\n",
        "\n",
        "# One of each component number has to be selected (need all 10 components to build a light)\n",
        "\n",
        "for i in I:\n",
        "    model.addConstr(sum(x[i,j] for j in J) == 1)\n",
        "\n",
        "# at least 7 of the 10 components must be UL-certified\n",
        "\n",
        "model.addConstr(sum(U[i,j]*x[i,j] for i in I for j in J) >= 7)\n",
        "\n",
        "# Compatibility\n",
        "\n",
        "model.addConstr(x[0,2] + x[1,2] <= 1)\n",
        "\n",
        "model.addConstr(x[1,0] == x[3,1])\n",
        "\n",
        "# Budget cap\n",
        "\n",
        "model.addConstr(sum(x[i,j]*C[i,j] * (1 + r[i,j]) for i in I for j in J) <= 5400)\n",
        "\n",
        "# Dummy variables\n",
        "\n",
        "# Sup15, Sup35, Sup55, Sup65, Sup75, Sup104, Sup105 must be 0\n",
        "\n",
        "model.addConstr(x[0,4] == 0)\n",
        "model.addConstr(x[2,4] == 0)\n",
        "model.addConstr(x[4,4] == 0)\n",
        "model.addConstr(x[5,4] == 0)\n",
        "model.addConstr(x[6,4] == 0)\n",
        "model.addConstr(x[9,3] == 0)\n",
        "model.addConstr(x[9,4] == 0)"
      ]
    },
    {
      "cell_type": "code",
      "execution_count": null,
      "id": "0beea5f8",
      "metadata": {
        "id": "0beea5f8",
        "outputId": "2d8e2fe0-71c5-44f8-aa1c-ec1cf274a096"
      },
      "outputs": [
        {
          "name": "stdout",
          "output_type": "stream",
          "text": [
            "Gurobi Optimizer version 9.5.1 build v9.5.1rc2 (mac64[x86])\n",
            "Thread count: 2 physical cores, 4 logical processors, using up to 4 threads\n",
            "Optimize a model with 21 rows, 50 columns and 135 nonzeros\n",
            "Model fingerprint: 0xd2b12157\n",
            "Variable types: 0 continuous, 50 integer (50 binary)\n",
            "Coefficient statistics:\n",
            "  Matrix range     [1e+00, 2e+03]\n",
            "  Objective range  [1e-02, 1e-01]\n",
            "  Bounds range     [1e+00, 1e+00]\n",
            "  RHS range        [1e+00, 5e+03]\n",
            "Found heuristic solution: objective 0.4050000\n",
            "Presolve removed 10 rows and 29 columns\n",
            "Presolve time: 0.00s\n",
            "Presolved: 11 rows, 21 columns, 48 nonzeros\n",
            "Found heuristic solution: objective 0.2550000\n",
            "Variable types: 0 continuous, 21 integer (21 binary)\n",
            "Found heuristic solution: objective 0.2470000\n",
            "\n",
            "Root relaxation: objective 2.254947e-01, 3 iterations, 0.00 seconds (0.00 work units)\n",
            "\n",
            "    Nodes    |    Current Node    |     Objective Bounds      |     Work\n",
            " Expl Unexpl |  Obj  Depth IntInf | Incumbent    BestBd   Gap | It/Node Time\n",
            "\n",
            "     0     0    0.22549    0    2    0.24700    0.22549  8.71%     -    0s\n",
            "H    0     0                       0.2270000    0.22549  0.66%     -    0s\n",
            "     0     0    0.22549    0    2    0.22700    0.22549  0.66%     -    0s\n",
            "\n",
            "Explored 1 nodes (3 simplex iterations) in 0.06 seconds (0.00 work units)\n",
            "Thread count was 4 (of 4 available processors)\n",
            "\n",
            "Solution count 4: 0.227 0.247 0.255 0.405 \n",
            "\n",
            "Optimal solution found (tolerance 1.00e-04)\n",
            "Best objective 2.270000000000e-01, best bound 2.270000000000e-01, gap 0.0000%\n"
          ]
        }
      ],
      "source": [
        "# optimize\n",
        "\n",
        "model.optimize()"
      ]
    },
    {
      "cell_type": "code",
      "execution_count": null,
      "id": "dd26c2c7",
      "metadata": {
        "id": "dd26c2c7",
        "outputId": "282e93ad-f84e-406e-a907-ceed247e0439"
      },
      "outputs": [
        {
          "data": {
            "text/plain": [
              "0.22699999999999998"
            ]
          },
          "execution_count": 42,
          "metadata": {},
          "output_type": "execute_result"
        }
      ],
      "source": [
        "model.objVal"
      ]
    },
    {
      "cell_type": "markdown",
      "id": "bb6940ac",
      "metadata": {
        "id": "bb6940ac"
      },
      "source": [
        "# The optimal value of our objective function is 0.227."
      ]
    },
    {
      "cell_type": "code",
      "execution_count": null,
      "id": "3a8476f5",
      "metadata": {
        "id": "3a8476f5",
        "outputId": "12c7eb07-142d-4615-f8a6-c2a904d88da1"
      },
      "outputs": [
        {
          "data": {
            "text/plain": [
              "5295.2"
            ]
          },
          "execution_count": 43,
          "metadata": {},
          "output_type": "execute_result"
        }
      ],
      "source": [
        "C[0,2] + C[1,1] + C[2,2] + C[3,2] + C[4,3] + C[5,3] + C[6,0] + C[7,4] + C[8,0] + C[9,1]"
      ]
    },
    {
      "cell_type": "markdown",
      "id": "0420573d",
      "metadata": {
        "id": "0420573d"
      },
      "source": [
        "# The cost of this solution is $5295.2."
      ]
    },
    {
      "cell_type": "markdown",
      "id": "b738827f",
      "metadata": {
        "id": "b738827f"
      },
      "source": [
        "# Optimal allocation decisions for second solution:"
      ]
    },
    {
      "cell_type": "code",
      "execution_count": null,
      "id": "dd1f7adc",
      "metadata": {
        "id": "dd1f7adc",
        "outputId": "3ab30543-2c1b-4bd8-d930-bf24182490a4"
      },
      "outputs": [
        {
          "name": "stdout",
          "output_type": "stream",
          "text": [
            "\n",
            "    Variable            X \n",
            "-------------------------\n",
            "       x_0_2            1 \n",
            "       x_1_1            1 \n",
            "       x_2_2            1 \n",
            "       x_3_2            1 \n",
            "       x_4_3            1 \n",
            "       x_5_3            1 \n",
            "       x_6_0            1 \n",
            "       x_7_4            1 \n",
            "       x_8_0            1 \n",
            "       x_9_1            1 \n"
          ]
        }
      ],
      "source": [
        "model.printAttr('X')"
      ]
    }
  ],
  "metadata": {
    "kernelspec": {
      "display_name": "Python 3",
      "language": "python",
      "name": "python3"
    },
    "language_info": {
      "codemirror_mode": {
        "name": "ipython",
        "version": 3
      },
      "file_extension": ".py",
      "mimetype": "text/x-python",
      "name": "python",
      "nbconvert_exporter": "python",
      "pygments_lexer": "ipython3",
      "version": "3.8.8"
    },
    "colab": {
      "provenance": []
    }
  },
  "nbformat": 4,
  "nbformat_minor": 5
}